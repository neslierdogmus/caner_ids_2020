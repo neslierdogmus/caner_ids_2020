{
 "cells": [
  {
   "cell_type": "code",
   "execution_count": null,
   "metadata": {},
   "outputs": [],
   "source": [
    "import numpy as np\n",
    "from matplotlib import pyplot as plt\n",
    "from sklearn import preprocessing\n",
    "\n",
    "features = np.load('../data/features.npy')\n",
    "labels = np.load('../data/labels.npy', allow_pickle=True)\n",
    "\n",
    "extra_benign = np.load('../data/extra_benign.npy')\n",
    "kept_index = np.setdiff1d(np.arange(0,features.shape[0]),extra_benign)\n",
    "\n",
    "minmax_scaler = preprocessing.MinMaxScaler()\n",
    "features_n = minmax_scaler.fit_transform(features)\n",
    "fig, (ax1, ax2) = plt.subplots(2, 1)\n",
    "ax1.errorbar(np.arange(features.shape[1])-0.2, np.mean(features, axis=0), np.std(features, axis=0), fmt='.g', lw=1)\n",
    "ax2.errorbar(np.arange(features.shape[1])-0.2, np.mean(features_n, axis=0), np.std(features_n, axis=0), fmt='.g', lw=1)"
   ]
  },
  {
   "cell_type": "code",
   "execution_count": null,
   "metadata": {},
   "outputs": [],
   "source": [
    "for i in range(1,6):\n",
    "    ti = np.load('../data/test_index'+str(i)+'.npy')\n",
    "    mask = np.ones(len(labels), dtype=bool); mask[ti,] = False; mask[extra_benign,] = False;\n",
    "    tr = features[mask]; te = features[ti,:]; tx = features[extra_benign,:]\n",
    "    minmax_scaler = preprocessing.MinMaxScaler()\n",
    "    tr_n = minmax_scaler.fit_transform(tr); te_n = minmax_scaler.transform(te); tx_n = minmax_scaler.transform(tx)\n",
    "    \n",
    "    fig, (ax1, ax2) = plt.subplots(2, 1)\n",
    "    ax1.errorbar(np.arange(features.shape[1])-0.2, np.mean(tr, axis=0), np.std(tr, axis=0), fmt='.g', lw=1)\n",
    "    ax1.errorbar(np.arange(features.shape[1]), np.mean(te, axis=0), np.std(te, axis=0), fmt='.r', lw=1)\n",
    "    ax1.errorbar(np.arange(features.shape[1])+0.2, np.mean(tx, axis=0), np.std(tx, axis=0), fmt='.b', lw=1)\n",
    "    ax2.errorbar(np.arange(features.shape[1])-0.2, np.mean(tr_n, axis=0), np.std(tr_n, axis=0), fmt='.g', lw=1)\n",
    "    ax2.errorbar(np.arange(features.shape[1]), np.mean(te_n, axis=0), np.std(te_n, axis=0), fmt='.r', lw=1)\n",
    "    ax2.errorbar(np.arange(features.shape[1])+0.2, np.mean(tx_n, axis=0), np.std(tx_n, axis=0), fmt='.b', lw=1)"
   ]
  },
  {
   "cell_type": "code",
   "execution_count": null,
   "metadata": {},
   "outputs": [],
   "source": []
  }
 ],
 "metadata": {
  "kernelspec": {
   "display_name": "Python 3",
   "language": "python",
   "name": "python3"
  },
  "language_info": {
   "codemirror_mode": {
    "name": "ipython",
    "version": 3
   },
   "file_extension": ".py",
   "mimetype": "text/x-python",
   "name": "python",
   "nbconvert_exporter": "python",
   "pygments_lexer": "ipython3",
   "version": "3.6.11"
  }
 },
 "nbformat": 4,
 "nbformat_minor": 4
}
